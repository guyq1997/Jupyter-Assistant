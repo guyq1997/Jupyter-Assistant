{
 "cells": [
  {
   "cell_type": "code",
   "execution_count": 1,
   "id": "273925a2",
   "metadata": {},
   "outputs": [],
   "source": [
    "import pandas as pd"
   ]
  },
  {
   "cell_type": "code",
   "execution_count": 7,
   "id": "10a7a66a",
   "metadata": {},
   "outputs": [],
   "source": [
    "df = pd.read_excel(open('vehicle_data.xlsx', 'rb'),\n",
    "              sheet_name='vehicle_hash')"
   ]
  },
  {
   "cell_type": "code",
   "execution_count": 8,
   "id": "63e31a06",
   "metadata": {},
   "outputs": [],
   "source": [
    "df = df.drop(columns = ['Unnamed: 0'])"
   ]
  },
  {
   "cell_type": "code",
   "execution_count": 6,
   "id": "53bf81b0-c454-4646-8c52-cf573d10e1d8",
   "metadata": {},
   "outputs": [],
   "source": [
    "df.to_csv('sales_codes_table.csv')"
   ]
  },
  {
   "cell_type": "code",
   "execution_count": 5,
   "id": "f0fb621f",
   "metadata": {
    "scrolled": true
   },
   "outputs": [
    {
     "name": "stdout",
     "output_type": "stream",
     "text": [
      "<class 'pandas.core.frame.DataFrame'>\n",
      "RangeIndex: 500 entries, 0 to 499\n",
      "Data columns (total 4 columns):\n",
      " #   Column            Non-Null Count  Dtype \n",
      "---  ------            --------------  ----- \n",
      " 0   h_vehicle_hash    495 non-null    object\n",
      " 1   production_date   497 non-null    object\n",
      " 2   country           490 non-null    object\n",
      " 3   sales_code_array  500 non-null    object\n",
      "dtypes: object(4)\n",
      "memory usage: 15.8+ KB\n"
     ]
    }
   ],
   "source": [
    "df.info()"
   ]
  },
  {
   "cell_type": "code",
   "execution_count": 33,
   "id": "c587a685",
   "metadata": {},
   "outputs": [
    {
     "data": {
      "text/html": [
       "<div>\n",
       "<style scoped>\n",
       "    .dataframe tbody tr th:only-of-type {\n",
       "        vertical-align: middle;\n",
       "    }\n",
       "\n",
       "    .dataframe tbody tr th {\n",
       "        vertical-align: top;\n",
       "    }\n",
       "\n",
       "    .dataframe thead th {\n",
       "        text-align: right;\n",
       "    }\n",
       "</style>\n",
       "<table border=\"1\" class=\"dataframe\">\n",
       "  <thead>\n",
       "    <tr style=\"text-align: right;\">\n",
       "      <th></th>\n",
       "      <th>h_vehicle_hash</th>\n",
       "      <th>production_date</th>\n",
       "      <th>country</th>\n",
       "      <th>sales_code_array</th>\n",
       "    </tr>\n",
       "  </thead>\n",
       "  <tbody>\n",
       "    <tr>\n",
       "      <th>count</th>\n",
       "      <td>495</td>\n",
       "      <td>497</td>\n",
       "      <td>490</td>\n",
       "      <td>500</td>\n",
       "    </tr>\n",
       "    <tr>\n",
       "      <th>unique</th>\n",
       "      <td>495</td>\n",
       "      <td>466</td>\n",
       "      <td>189</td>\n",
       "      <td>500</td>\n",
       "    </tr>\n",
       "    <tr>\n",
       "      <th>top</th>\n",
       "      <td>924d229bede272c5a3b440c464cd1dfb74cae74d</td>\n",
       "      <td>2017-08-13 00:00:00</td>\n",
       "      <td>Germany</td>\n",
       "      <td>Z5E, M3E, A4S, Y1R, F5E, J3Y, X4M, J1Z, M5X, V...</td>\n",
       "    </tr>\n",
       "    <tr>\n",
       "      <th>freq</th>\n",
       "      <td>1</td>\n",
       "      <td>3</td>\n",
       "      <td>134</td>\n",
       "      <td>1</td>\n",
       "    </tr>\n",
       "  </tbody>\n",
       "</table>\n",
       "</div>"
      ],
      "text/plain": [
       "                                  h_vehicle_hash      production_date  \\\n",
       "count                                        495                  497   \n",
       "unique                                       495                  466   \n",
       "top     924d229bede272c5a3b440c464cd1dfb74cae74d  2017-08-13 00:00:00   \n",
       "freq                                           1                    3   \n",
       "\n",
       "        country                                   sales_code_array  \n",
       "count       490                                                500  \n",
       "unique      189                                                500  \n",
       "top     Germany  Z5E, M3E, A4S, Y1R, F5E, J3Y, X4M, J1Z, M5X, V...  \n",
       "freq        134                                                  1  "
      ]
     },
     "execution_count": 33,
     "metadata": {},
     "output_type": "execute_result"
    }
   ],
   "source": [
    "df.describe()"
   ]
  },
  {
   "cell_type": "markdown",
   "id": "58579229",
   "metadata": {},
   "source": [
    "## ID-Column"
   ]
  },
  {
   "cell_type": "code",
   "execution_count": 7,
   "id": "467c8c94",
   "metadata": {},
   "outputs": [],
   "source": [
    "df.loc[:,'ID_Len'] = df['h_vehicle_hash'].str.len()"
   ]
  },
  {
   "cell_type": "code",
   "execution_count": 8,
   "id": "3613aa27",
   "metadata": {},
   "outputs": [
    {
     "data": {
      "text/plain": [
       "array([40., nan])"
      ]
     },
     "execution_count": 8,
     "metadata": {},
     "output_type": "execute_result"
    }
   ],
   "source": [
    "df.ID_Len.unique()"
   ]
  },
  {
   "cell_type": "code",
   "execution_count": 9,
   "id": "741c589a",
   "metadata": {},
   "outputs": [],
   "source": [
    "#drop rows with nan ID data\n",
    "#df = df.dropna(axis = 0, subset = '')"
   ]
  },
  {
   "cell_type": "markdown",
   "id": "fcc8b3ac",
   "metadata": {},
   "source": [
    "## Date column"
   ]
  },
  {
   "cell_type": "code",
   "execution_count": 46,
   "id": "60bd9d9c",
   "metadata": {},
   "outputs": [],
   "source": [
    "df['production_date'] = pd.to_datetime(df['production_date'], errors = 'coerce')"
   ]
  },
  {
   "cell_type": "code",
   "execution_count": 11,
   "id": "04794e03",
   "metadata": {},
   "outputs": [
    {
     "data": {
      "text/html": [
       "<div>\n",
       "<style scoped>\n",
       "    .dataframe tbody tr th:only-of-type {\n",
       "        vertical-align: middle;\n",
       "    }\n",
       "\n",
       "    .dataframe tbody tr th {\n",
       "        vertical-align: top;\n",
       "    }\n",
       "\n",
       "    .dataframe thead th {\n",
       "        text-align: right;\n",
       "    }\n",
       "</style>\n",
       "<table border=\"1\" class=\"dataframe\">\n",
       "  <thead>\n",
       "    <tr style=\"text-align: right;\">\n",
       "      <th></th>\n",
       "      <th>h_vehicle_hash</th>\n",
       "      <th>production_date</th>\n",
       "      <th>country</th>\n",
       "      <th>sales_code_array</th>\n",
       "      <th>ID_Len</th>\n",
       "    </tr>\n",
       "  </thead>\n",
       "  <tbody>\n",
       "    <tr>\n",
       "      <th>0</th>\n",
       "      <td>924d229bede272c5a3b440c464cd1dfb74cae74d</td>\n",
       "      <td>2013-02-05</td>\n",
       "      <td>Namibia</td>\n",
       "      <td>Z5E, M3E, A4S, Y1R, F5E, J3Y, X4M, J1Z, M5X, V...</td>\n",
       "      <td>40.0</td>\n",
       "    </tr>\n",
       "    <tr>\n",
       "      <th>1</th>\n",
       "      <td>3787a8db036dabd7433a32eaeeca8e5758bc3df8</td>\n",
       "      <td>2012-08-27</td>\n",
       "      <td>Germany</td>\n",
       "      <td>Z5D, M2N, K1X, Q2Z, G0W, F0S, F0K, E4M, V2H, A...</td>\n",
       "      <td>40.0</td>\n",
       "    </tr>\n",
       "    <tr>\n",
       "      <th>2</th>\n",
       "      <td>aea31cdf4f575acf190626a50e927547e683d2ac</td>\n",
       "      <td>2015-08-11</td>\n",
       "      <td>Germany</td>\n",
       "      <td>Z5C, M2A, A5H, P7S, P2B, N8D, D4S, A3A, D4Q, I...</td>\n",
       "      <td>40.0</td>\n",
       "    </tr>\n",
       "    <tr>\n",
       "      <th>3</th>\n",
       "      <td>d92ed338496281e08443c88583be06128a2d4b42</td>\n",
       "      <td>2015-02-22</td>\n",
       "      <td>Lithuania</td>\n",
       "      <td>Z5F, M3P, D3H, C8C, Z9I, K6T, N2F, I1P, K3Z, Z...</td>\n",
       "      <td>40.0</td>\n",
       "    </tr>\n",
       "    <tr>\n",
       "      <th>4</th>\n",
       "      <td>7934c4872515da4b1c9648d01c0813f81c496aff</td>\n",
       "      <td>2017-03-10</td>\n",
       "      <td>Germany</td>\n",
       "      <td>Z5B, M1K, L1T, E6J, C6I, A2K, O0C, K1X, X1S, F...</td>\n",
       "      <td>40.0</td>\n",
       "    </tr>\n",
       "    <tr>\n",
       "      <th>...</th>\n",
       "      <td>...</td>\n",
       "      <td>...</td>\n",
       "      <td>...</td>\n",
       "      <td>...</td>\n",
       "      <td>...</td>\n",
       "    </tr>\n",
       "    <tr>\n",
       "      <th>495</th>\n",
       "      <td>e97bca74b48c8e2e809dea1814ea647d057d9df1</td>\n",
       "      <td>2015-06-09</td>\n",
       "      <td>Qatar</td>\n",
       "      <td>Z5F, M3V, N8K, Q2E, X3I, F5Q, D7F, E3T, D0B, D...</td>\n",
       "      <td>40.0</td>\n",
       "    </tr>\n",
       "    <tr>\n",
       "      <th>496</th>\n",
       "      <td>e7d817628ed1f07aef4fa8d6b7cd7a1c0419c5c3</td>\n",
       "      <td>2019-08-22</td>\n",
       "      <td>Costa Rica</td>\n",
       "      <td>Z5E, M3A, Q2V, Q4X, B1D, R2J, P9T, F6A, E2I, I...</td>\n",
       "      <td>40.0</td>\n",
       "    </tr>\n",
       "    <tr>\n",
       "      <th>497</th>\n",
       "      <td>d7b0f243d9c87c1519638fd687f171f18878def4</td>\n",
       "      <td>2018-05-03</td>\n",
       "      <td>Germany</td>\n",
       "      <td>Z5L, M3J, A4M, P6Y, C7E, A1H, V6G, D5N, E0N, K...</td>\n",
       "      <td>40.0</td>\n",
       "    </tr>\n",
       "    <tr>\n",
       "      <th>498</th>\n",
       "      <td>73fa5ea52299d19c5bc2323d96458de6dd2cc48a</td>\n",
       "      <td>2016-04-11</td>\n",
       "      <td>Algeria</td>\n",
       "      <td>Z5E, M3B, U3M, J2O, I5B, Z0M, X2C, I6P, I1C, V...</td>\n",
       "      <td>40.0</td>\n",
       "    </tr>\n",
       "    <tr>\n",
       "      <th>499</th>\n",
       "      <td>e4d588f7a964377ce7cf047ecdec806b03f7a356</td>\n",
       "      <td>2012-09-25</td>\n",
       "      <td>Germany</td>\n",
       "      <td>Z5C, M2F, E5A, W2A, N8H, J2E, D9Y, L9B, U2S, C...</td>\n",
       "      <td>40.0</td>\n",
       "    </tr>\n",
       "  </tbody>\n",
       "</table>\n",
       "<p>500 rows × 5 columns</p>\n",
       "</div>"
      ],
      "text/plain": [
       "                               h_vehicle_hash production_date     country  \\\n",
       "0    924d229bede272c5a3b440c464cd1dfb74cae74d      2013-02-05     Namibia   \n",
       "1    3787a8db036dabd7433a32eaeeca8e5758bc3df8      2012-08-27     Germany   \n",
       "2    aea31cdf4f575acf190626a50e927547e683d2ac      2015-08-11     Germany   \n",
       "3    d92ed338496281e08443c88583be06128a2d4b42      2015-02-22   Lithuania   \n",
       "4    7934c4872515da4b1c9648d01c0813f81c496aff      2017-03-10     Germany   \n",
       "..                                        ...             ...         ...   \n",
       "495  e97bca74b48c8e2e809dea1814ea647d057d9df1      2015-06-09       Qatar   \n",
       "496  e7d817628ed1f07aef4fa8d6b7cd7a1c0419c5c3      2019-08-22  Costa Rica   \n",
       "497  d7b0f243d9c87c1519638fd687f171f18878def4      2018-05-03     Germany   \n",
       "498  73fa5ea52299d19c5bc2323d96458de6dd2cc48a      2016-04-11     Algeria   \n",
       "499  e4d588f7a964377ce7cf047ecdec806b03f7a356      2012-09-25     Germany   \n",
       "\n",
       "                                      sales_code_array  ID_Len  \n",
       "0    Z5E, M3E, A4S, Y1R, F5E, J3Y, X4M, J1Z, M5X, V...    40.0  \n",
       "1    Z5D, M2N, K1X, Q2Z, G0W, F0S, F0K, E4M, V2H, A...    40.0  \n",
       "2    Z5C, M2A, A5H, P7S, P2B, N8D, D4S, A3A, D4Q, I...    40.0  \n",
       "3    Z5F, M3P, D3H, C8C, Z9I, K6T, N2F, I1P, K3Z, Z...    40.0  \n",
       "4    Z5B, M1K, L1T, E6J, C6I, A2K, O0C, K1X, X1S, F...    40.0  \n",
       "..                                                 ...     ...  \n",
       "495  Z5F, M3V, N8K, Q2E, X3I, F5Q, D7F, E3T, D0B, D...    40.0  \n",
       "496  Z5E, M3A, Q2V, Q4X, B1D, R2J, P9T, F6A, E2I, I...    40.0  \n",
       "497  Z5L, M3J, A4M, P6Y, C7E, A1H, V6G, D5N, E0N, K...    40.0  \n",
       "498  Z5E, M3B, U3M, J2O, I5B, Z0M, X2C, I6P, I1C, V...    40.0  \n",
       "499  Z5C, M2F, E5A, W2A, N8H, J2E, D9Y, L9B, U2S, C...    40.0  \n",
       "\n",
       "[500 rows x 5 columns]"
      ]
     },
     "execution_count": 11,
     "metadata": {},
     "output_type": "execute_result"
    }
   ],
   "source": [
    "df"
   ]
  },
  {
   "cell_type": "markdown",
   "id": "c506d3de",
   "metadata": {},
   "source": [
    "## Column sales_code"
   ]
  },
  {
   "cell_type": "code",
   "execution_count": 12,
   "id": "d07d7eb0",
   "metadata": {},
   "outputs": [],
   "source": [
    "df.loc[:,'code_Len'] = df['sales_code_array'].str.split(',')"
   ]
  },
  {
   "cell_type": "code",
   "execution_count": 13,
   "id": "58507427",
   "metadata": {},
   "outputs": [],
   "source": [
    "df.loc[:,'code_Len'] = df.loc[:,'code_Len'].str.len().astype(int)\n"
   ]
  },
  {
   "cell_type": "code",
   "execution_count": 14,
   "id": "4f692ba6",
   "metadata": {},
   "outputs": [
    {
     "data": {
      "text/plain": [
       "array([145, 253, 299, 152, 100, 171, 104, 296, 154, 121, 172, 268, 219,\n",
       "       214, 257, 204, 165, 129, 275, 280, 161, 287, 234, 224, 168, 114,\n",
       "       131, 110, 167, 276, 175, 163, 207, 106, 202, 241, 117, 181, 297,\n",
       "       132, 119, 200, 113, 289, 193, 170, 228, 150, 206, 212, 137, 111,\n",
       "       245, 278, 223, 108, 160, 263, 105, 233, 126, 187, 203, 237, 286,\n",
       "       118, 281, 149, 284, 258, 102, 222, 201, 260, 180, 255, 190, 213,\n",
       "       205, 282, 232, 269, 139, 211, 288, 155, 101, 134, 246, 249, 266,\n",
       "       120, 277, 130, 162, 229, 218, 191, 267, 192, 261, 184, 136, 251,\n",
       "       225, 274, 135, 151, 221, 148, 265, 142, 244, 210, 133, 208, 156,\n",
       "       262, 125, 173, 240, 235, 298, 122, 236, 273, 128, 264, 178, 252,\n",
       "       147, 188, 159, 109, 153, 186, 127, 230, 116, 194, 115, 243, 292,\n",
       "       239, 293, 166, 198, 220, 195, 103, 250, 285, 146, 107, 141, 247,\n",
       "       199, 174, 217, 179, 164, 196, 215, 185, 259, 216, 231, 112, 197,\n",
       "       123, 138, 183, 270, 248, 182, 291, 238, 227, 283, 189, 158, 177,\n",
       "       140, 169, 295, 143, 271, 226])"
      ]
     },
     "execution_count": 14,
     "metadata": {},
     "output_type": "execute_result"
    }
   ],
   "source": [
    "df.loc[:,'code_Len'].astype('int32').unique()"
   ]
  },
  {
   "cell_type": "markdown",
   "id": "f16c5651",
   "metadata": {},
   "source": [
    "## Data preperation for ARM"
   ]
  },
  {
   "cell_type": "code",
   "execution_count": 2,
   "id": "75285455",
   "metadata": {},
   "outputs": [],
   "source": [
    "df2 = pd.read_csv('final_table.csv')"
   ]
  },
  {
   "cell_type": "code",
   "execution_count": 3,
   "id": "1515a165",
   "metadata": {},
   "outputs": [],
   "source": [
    "sales_code_tp = tuple(tuple(i) for i in df2.sales_code_array.str.split(',').values)"
   ]
  },
  {
   "cell_type": "code",
   "execution_count": 4,
   "id": "7a585a70",
   "metadata": {},
   "outputs": [],
   "source": [
    "df2 = df2.drop(columns = ['sales_code_array'])"
   ]
  },
  {
   "cell_type": "code",
   "execution_count": 5,
   "id": "21667bfc",
   "metadata": {},
   "outputs": [],
   "source": [
    "data = tuple(tuple(i) for i in df2.values.tolist())"
   ]
  },
  {
   "cell_type": "code",
   "execution_count": 6,
   "id": "eede4c92",
   "metadata": {},
   "outputs": [],
   "source": [
    "data = [i + j for i,j in zip(data,sales_code_tp)]"
   ]
  },
  {
   "cell_type": "code",
   "execution_count": 9,
   "id": "7f63f1f9",
   "metadata": {},
   "outputs": [],
   "source": [
    "from efficient_apriori import apriori"
   ]
  },
  {
   "cell_type": "code",
   "execution_count": 34,
   "id": "6a65d32a",
   "metadata": {},
   "outputs": [],
   "source": [
    "itemsets, rules = apriori(data , min_support=0.03, min_confidence=0.7)"
   ]
  },
  {
   "cell_type": "code",
   "execution_count": 35,
   "id": "4e5aaf13",
   "metadata": {},
   "outputs": [
    {
     "data": {
      "text/plain": [
       "[{ M1H} -> {Z5B},\n",
       " { M1I} -> {Z5B},\n",
       " { M1K} -> {Z5B},\n",
       " { M2A} -> {Z5C},\n",
       " { M2D} -> {Z5C},\n",
       " { M2F} -> {Z5C},\n",
       " { M2N} -> {Z5D},\n",
       " { M2P} -> {Z5D},\n",
       " { M2S} -> {Z5D},\n",
       " { M3A} -> {Z5E},\n",
       " { M3C} -> {Z5E},\n",
       " { M3D} -> {Z5E},\n",
       " { M3H} -> {Z5L},\n",
       " { M3M} -> {Z5L},\n",
       " { M3N} -> {Z5F},\n",
       " { M3P} -> {Z5F},\n",
       " { M3V} -> {Z5F}]"
      ]
     },
     "execution_count": 35,
     "metadata": {},
     "output_type": "execute_result"
    }
   ],
   "source": [
    "rules"
   ]
  },
  {
   "cell_type": "code",
   "execution_count": 36,
   "id": "ca34b0af",
   "metadata": {},
   "outputs": [
    {
     "name": "stdout",
     "output_type": "stream",
     "text": [
      "{ M1H} -> {Z5B} (conf: 1.000, supp: 0.042, lift: 5.962, conv: 832271762.208) 21.231422505307854\n",
      "{ M1I} -> {Z5B} (conf: 1.000, supp: 0.040, lift: 5.962, conv: 832271762.208) 20.169851380042463\n",
      "{ M1K} -> {Z5B} (conf: 1.000, supp: 0.055, lift: 5.962, conv: 832271762.208) 27.60084925690021\n",
      "{ M2A} -> {Z5C} (conf: 1.000, supp: 0.034, lift: 6.452, conv: 845010615.711) 16.985138004246284\n",
      "{ M2D} -> {Z5C} (conf: 1.000, supp: 0.038, lift: 6.452, conv: 845010615.711) 19.108280254777068\n",
      "{ M2F} -> {Z5C} (conf: 1.000, supp: 0.034, lift: 6.452, conv: 845010615.711) 16.985138004246284\n",
      "{ M2N} -> {Z5D} (conf: 1.000, supp: 0.034, lift: 5.815, conv: 828025477.707) 16.985138004246284\n",
      "{ M2P} -> {Z5D} (conf: 1.000, supp: 0.040, lift: 5.815, conv: 828025477.707) 20.169851380042463\n",
      "{ M2S} -> {Z5D} (conf: 1.000, supp: 0.038, lift: 5.815, conv: 828025477.707) 19.108280254777068\n",
      "{ M3A} -> {Z5E} (conf: 1.000, supp: 0.036, lift: 6.280, conv: 840764331.210) 18.046709129511676\n",
      "{ M3C} -> {Z5E} (conf: 1.000, supp: 0.038, lift: 6.280, conv: 840764331.210) 19.108280254777068\n",
      "{ M3D} -> {Z5E} (conf: 1.000, supp: 0.032, lift: 6.280, conv: 840764331.210) 15.92356687898089\n",
      "{ M3H} -> {Z5L} (conf: 1.000, supp: 0.032, lift: 5.607, conv: 821656050.955) 15.92356687898089\n",
      "{ M3M} -> {Z5L} (conf: 1.000, supp: 0.036, lift: 5.607, conv: 821656050.955) 18.046709129511676\n",
      "{ M3N} -> {Z5F} (conf: 1.000, supp: 0.049, lift: 5.962, conv: 832271762.208) 24.416135881104037\n",
      "{ M3P} -> {Z5F} (conf: 1.000, supp: 0.047, lift: 5.962, conv: 832271762.208) 23.354564755838638\n",
      "{ M3V} -> {Z5F} (conf: 1.000, supp: 0.072, lift: 5.962, conv: 832271762.208) 36.09341825902335\n"
     ]
    }
   ],
   "source": [
    "for i in rules:\n",
    "    print(i ,  i.support*500)"
   ]
  },
  {
   "cell_type": "code",
   "execution_count": 43,
   "id": "9980118e",
   "metadata": {},
   "outputs": [
    {
     "name": "stdout",
     "output_type": "stream",
     "text": [
      "[{eggs} -> {bacon}, {soup} -> {bacon}]\n"
     ]
    }
   ],
   "source": [
    "transactions = [('eggs',  'soup', 'bacon'),\n",
    "                ('eggs', 'bacon', 'apple'),\n",
    "                ('soup', 'banana', 'bacon')]\n",
    "itemsets, rules = apriori(transactions, min_support=0.5, min_confidence=1)\n",
    "print(rules)  # [{eggs} -> {bacon}, {soup} -> {bacon}]"
   ]
  },
  {
   "cell_type": "code",
   "execution_count": 44,
   "id": "ab70b5be",
   "metadata": {},
   "outputs": [
    {
     "name": "stdout",
     "output_type": "stream",
     "text": [
      "{eggs} -> {bacon} (conf: 1.000, supp: 0.667, lift: 1.000, conv: 0.000)\n",
      "{soup} -> {bacon} (conf: 1.000, supp: 0.667, lift: 1.000, conv: 0.000)\n"
     ]
    }
   ],
   "source": [
    "for i in rules:\n",
    "    print(i)"
   ]
  },
  {
   "cell_type": "code",
   "execution_count": null,
   "id": "baed15d5",
   "metadata": {},
   "outputs": [],
   "source": []
  }
 ],
 "metadata": {
  "kernelspec": {
   "display_name": "Python 3 (ipykernel)",
   "language": "python",
   "name": "python3"
  },
  "language_info": {
   "codemirror_mode": {
    "name": "ipython",
    "version": 3
   },
   "file_extension": ".py",
   "mimetype": "text/x-python",
   "name": "python",
   "nbconvert_exporter": "python",
   "pygments_lexer": "ipython3",
   "version": "3.10.10"
  }
 },
 "nbformat": 4,
 "nbformat_minor": 5
}
