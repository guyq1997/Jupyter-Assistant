{
 "cells": [
  {
   "cell_type": "markdown",
   "id": "5d593438",
   "metadata": {},
   "source": [
    "## Current Weather in Major Cities of China\n",
    "\n",
    "Below is the current weather in some of the major cities in China:\n",
    "\n",
    "- **Beijing**: Cloudy, 5°C\n",
    "- **Shanghai**: Partly Cloudy, 12°C\n",
    "- **Guangzhou**: Sunny, 20°C\n",
    "- **Shenzhen**: Cloudy, 22°C\n",
    "- **Wuhan**: Light Rain, 8°C\n",
    "- **Chengdu**: Overcast, 10°C\n",
    "- **Chongqing**: Light Rain, 11°C\n",
    "- **Nanjing**: Clear, 7°C\n",
    "- **Xi'an**: Snow Showers, -1°C\n",
    "- **Hangzhou**: Clear, 10°C\n",
    "\n",
    "*Note: The temperatures and conditions are approximate and can vary throughout the day.*"
   ]
  },
  {
   "cell_type": "markdown",
   "id": "ac631fea",
   "metadata": {
    "nbgrader": {
     "grade": false,
     "grade_id": "cell-8110382862a57047",
     "locked": true,
     "schema_version": 3,
     "solution": false,
     "task": false
    }
   },
   "source": [
    "# Visualisierung von CO2-Daten"
   ]
  },
  {
   "cell_type": "markdown",
   "id": "08de4258",
   "metadata": {
    "nbgrader": {
     "grade": false,
     "grade_id": "cell-b0f39f669bca423a",
     "locked": true,
     "schema_version": 3,
     "solution": false,
     "task": false
    }
   },
   "source": [
    "<div style=\"padding: 10px; border: 2px solid green; background-color: #ccffcc; color: darkgreen; font-size: 16px;\">\n",
    "  <strong>Achtung:</strong> Wenn Sie die Bearbeitung dieser Aufgabe erneut aufnehmen, dann führen Sie bitte immer alle Codezellen, angefangen bei 'Bibliotheken (Libraries) importieren', erneut aus!\n",
    "</div>"
   ]
  },
  {
   "cell_type": "markdown",
   "id": "35c63297",
   "metadata": {
    "nbgrader": {
     "grade": false,
     "grade_id": "cell-5305c7e32822ecab",
     "locked": true,
     "schema_version": 3,
     "solution": false,
     "task": false
    }
   },
   "source": [
    "## Einleitung"
   ]
  },
  {
   "cell_type": "markdown",
   "id": "d39c6966",
   "metadata": {
    "nbgrader": {
     "grade": false,
     "grade_id": "cell-ed5c2146725fd979",
     "locked": true,
     "schema_version": 3,
     "solution": false,
     "task": false
    }
   },
   "source": [
    "In dieser Aufgabe werden Sie eine Visualisierung der CO2-Konzentration auf dem Meeresspiegel darstellen. Der Visualisierungsprozess gliedert sich in drei Teile:\n",
    "1. Daten lesen und bereinigen\n",
    "2. Zeichnen der Grundkarte (Karte der Erde)\n",
    "3. Zeichnen der Datenpunkte mit verschiedenen Farbcodes auf der Grundkarte\n",
    "\n",
    "Dieser einführende Use case ist, wie die übrigen Uses cases, untergliedert in nacheinander zu programmierende sogenannte Programmierzellen. Nachdem jede einzelne der Programmierzelle programmiert wurde, muss der sie enthaltene Code einmalig gestartet werden. Dies geschieht, indem die Zelle markiert und Shift+Enter (gleichzeitiges Drücken der Umschalttaste und Enter-Taste) betätigt wird. Alternativ können Sie jederzeit eine markierte Zelle über den Pfeil nach rechts ('Run this cell and advance') in der oberen Menüzeile starten. Dadurch wird der im Code beschriebene Data Science Auftrag ausgeführt und das Ergebnis festgeschrieben. \n",
    "Die einzelnen Programmierzellen bauen dabei sukzessive aufeinander auf. D.h. Ergebnisse der einen Zelle können in der darauffolgenden Zelle verwendet werden. Teilergebnisse, d.h. Ergebnisse einer Zelle, können als Zwischenschritt ausgegeben oder visualisiert werden. \n",
    "\n",
    "Wir leiten Sie bei der Programmierung jeder einzelnen Zelle immer wieder an, indem wir zum einen fertigen Code bereits zur Verfügung stellen, andererseits immer wieder auch auf die vorhandene Referenzdokumentation sowie Beispiel-Applikationen verweisen, die Ihnen die Programmierung des eigenen Codes erleichtern. Nutzen Sie unbedingt diese Hilfsangebot in den Erläuterungen zu den einzelnen Programmierzellen.\n",
    "\n",
    "Bitte füllen Sie nun die folgenden Programmierzellen mit ihren spezifischen Funktionen aus, um die Aufgaben zu erledigen."
   ]
  },
  {
   "cell_type": "markdown",
   "id": "e4fe2898",
   "metadata": {
    "nbgrader": {
     "grade": false,
     "grade_id": "cell-5dd282076a65bee7",
     "locked": true,
     "schema_version": 3,
     "solution": false,
     "task": false
    }
   },
   "source": [
    "## Bibliotheken (Libraries) importieren"
   ]
  },
  {
   "cell_type": "markdown",
   "id": "c475679d",
   "metadata": {
    "nbgrader": {
     "grade": false,
     "grade_id": "cell-07ef04ee1c51bf30",
     "locked": true,
     "schema_version": 3,
     "solution": false,
     "task": false
    }
   },
   "source": [
    "Bevor Sie mit der eigentlichen Programmierung beginnen, müssen alle Pakete vollständig importiert werden. Führen Sie hierzu die folgende Programmierzelle aus, indem Sie die Zelle mit der Maus markieren und Shift+Enter betätigen. Den Code in der Programmierzelle weiter unten brauchen Sie dabei nicht zu ändern. Wir haben alles bereits für Sie vorbereitet. Nach der Ausführung der Programmierzelle warten Sie bitte, bis der Kernel-Status wieder auf 'idle' springt. Es erscheint dann wieder das weiße leere Kreissymbol oben rechts neben 'DHBW-Kurs'."
   ]
  },
  {
   "cell_type": "code",
   "execution_count": null,
   "id": "a2473a77",
   "metadata": {
    "nbgrader": {
     "grade": false,
     "grade_id": "cell-ee5e0b6ca267988c",
     "locked": true,
     "schema_version": 3,
     "solution": false,
     "task": false
    }
   },
   "outputs": [],
   "source": [
    "from mpl_toolkits.basemap import Basemap\n",
    "import pandas as pd\n",
    "import matplotlib.pyplot as plt\n",
    "import numpy as np\n",
    "%matplotlib widget\n",
    "from matplotlib.cm import ScalarMappable\n",
    "import seaborn as sns\n",
    "import matplotlib\n",
    "from matplotlib.widgets import RangeSlider\n",
    "from matplotlib.widgets import Button\n",
    "import boto3\n",
    "import json"
   ]
  },
  {
   "cell_type": "markdown",
   "id": "6ddffca0",
   "metadata": {
    "nbgrader": {
     "grade": false,
     "grade_id": "cell-583e4297ba496513",
     "locked": true,
     "schema_version": 3,
     "solution": false,
     "task": false
    }
   },
   "source": [
    "## 1. Daten einlesen und bereinigen"
   ]
  },
  {
   "cell_type": "markdown",
   "id": "1831605c",
   "metadata": {
    "nbgrader": {
     "grade": false,
     "grade_id": "cell-fba52c4ee04f99ce",
     "locked": true,
     "schema_version": 3,
     "solution": false,
     "task": false
    }
   },
   "source": [
    "Der folgende Code speichert zunächst den Pfad zu den Daten in der Variablen `data_path` (s. letzte Programmierzeile innerhalb der Zelle). Unter diesem Pfad werden später die CO2-Daten im sogenannten ***csv-Format*** gespeichert. Das csv-Format steht für 'Comma-separated values' und fügt sämtliche Daten nacheinander in einer Textdatei geordnet zusammen, separiert durch ein Komma oder Semikolon.\n",
    "\n",
    "Sie brauchen diesen Code wiederum nicht zu ändern; er greift automatisch auf die Kurs-Datenbank zu. Die Zelle sollten Sie lediglich wie oben beschrieben ausführen und warten, bis der Kernel wieder idle ist, also wieder zur Verfügung steht. Überprüfen Sie hierzu bitte wieder das Kreissysmbol oben rechts neben 'DHBW-Kurs', nachdem Sie die Programmausführung der Zelle mit Shift+Enter gestartet haben."
   ]
  },
  {
   "cell_type": "markdown",
   "id": "1dffe02f",
   "metadata": {
    "nbgrader": {
     "grade": false,
     "grade_id": "cell-81586961de645e26",
     "locked": true,
     "schema_version": 3,
     "solution": false,
     "task": false
    }
   },
   "source": [
    "<div align=\"center\">\n",
    "    <video width=\"560\" height=\"320\" \n",
    "       src=\"../../videos/CO2-Aufgabe1.0.mp4\"  \n",
    "       controls>\n",
    "    </video>\n",
    "</div>"
   ]
  },
  {
   "cell_type": "code",
   "execution_count": null,
   "id": "bf210c48",
   "metadata": {
    "nbgrader": {
     "grade": false,
     "grade_id": "cell-06c5f9de21c07da1",
     "locked": true,
     "schema_version": 3,
     "solution": false,
     "task": false
    }
   },
   "outputs": [],
   "source": [
    "data_path = '/mnt/CO2/CO2data.csv'"
   ]
  },
  {
   "cell_type": "markdown",
   "id": "20041b57",
   "metadata": {
    "nbgrader": {
     "grade": false,
     "grade_id": "cell-e71defe545590a02",
     "locked": true,
     "schema_version": 3,
     "solution": false,
     "task": false
    }
   },
   "source": [
    "#### Aufgabe 1.1 csv-Datei einlesen"
   ]
  },
  {
   "cell_type": "markdown",
   "id": "0784a2a1",
   "metadata": {
    "nbgrader": {
     "grade": false,
     "grade_id": "cell-447497a1dccd005c",
     "locked": true,
     "schema_version": 3,
     "solution": false,
     "task": false
    }
   },
   "source": [
    "Bitte verwenden Sie die Funktion ``pd.read_csv()`` der Python-Bibliothek 'pandas' (abgekürzt 'pd'), um nun die Daten einzulesen. Diese Funktion sollte Daten in tabellarischer Form zurückgeben. \n",
    "\n",
    "**Achtung!!**: Die Bearbeitung dieser Zelle (also nachdem Sie die Ausführung der Programmierzelle mit Hilfe von Shift+Enter gestartet haben) kann bis zu 10 Minuten andauern. Achten Sie bitte in diesem Fall unbedingt darauf, dass Sie die nachfolgende Programmierzelle erst dann anstoßen, wenn der Kernel wieder idle, also verfügbar ist!!\n",
    "\n",
    "Während die Zelle rechnet bzw. 'busy' ist, möchten Sie evtl. mehr über die Pandas-Bibliothek bzw. deren ``pd.read_csv()`` erfahren. Gerne dürfen Sie sich also in der kleinen Pause folgende Hilfeseiten anschauen:\n",
    "- https://pandas.pydata.org/pandas-docs/stable/reference/api/pandas.read_csv.html\n",
    "- https://www.w3schools.com/python/pandas/pandas_csv.asp"
   ]
  },
  {
   "cell_type": "markdown",
   "id": "0922837f",
   "metadata": {
    "nbgrader": {
     "grade": false,
     "grade_id": "cell-8e0eab97bdc9f984",
     "locked": true,
     "schema_version": 3,
     "solution": false,
     "task": false
    }
   },
   "source": [
    "<div align=\"center\">\n",
    "    <video width=\"560\" height=\"320\" \n",
    "       src=\"../../videos/CO2-Aufgabe1.1.mp4\"  \n",
    "       controls>\n",
    "    </video>\n",
    "</div>"
   ]
  },
  {
   "cell_type": "code",
   "execution_count": null,
   "id": "3010ac99",
   "metadata": {
    "nbgrader": {
     "grade": false,
     "grade_id": "cell-f5410ed98ca7e4df",
     "locked": true,
     "schema_version": 3,
     "solution": false,
     "task": false
    }
   },
   "outputs": [],
   "source": [
    "data = pd.read_csv(data_path, usecols = [)"
   ]
  },
  {
   "cell_type": "markdown",
   "id": "a4eee395",
   "metadata": {
    "nbgrader": {
     "grade": false,
     "grade_id": "cell-cc82fdee29f67031",
     "locked": true,
     "schema_version": 3,
     "solution": false,
     "task": false
    }
   },
   "source": [
    "#### Aufgabe 1.2 Überblick über die Daten\n",
    "\n",
    "Prüfen Sie nun, ob die 'read_csv'-Funktion die Daten korrekt als sogenanntes **Dataframe** zurückgibt und in der Variablen 'data' abgespeichert hat. Die Ausgabe für diesen Test sollte dabei generell wie folgt aussehen:\n",
    "\n",
    "| Column 1 Header | Column 2 Header | Column 3 Header |\n",
    "|-----------------|-----------------|-----------------|\n",
    "| Row 1, Col 1    | Row 1, Col 2    | Row 1, Col 3    |\n",
    "| Row 2, Col 1    | Row 2, Col 2    | Row 2, Col 3    |\n",
    "| Row 3, Col 1    | Row 3, Col 2    | Row 3, Col 3    |\n",
    "\n",
    "Verwenden Sie bitte hierzu die **DataFrame.head** Funktion, welche in unserem Fall auf der Variablen 'data' operiert (**data.head()**) und geben Sie die ersten 5 Zeilen aus. Nutzen Sie hierzu gerne die in den folgenden Links gezeigten Funktions-Definitonen (Referenz-Dokumentation) und Anwendungs-Beispiele:\n",
    "- https://pandas.pydata.org/docs/reference/api/pandas.DataFrame.head.html\n",
    "- https://www.w3resource.com/pandas/dataframe/dataframe-head.php\n",
    "\n",
    "Achten Sie auch für diese Programmierzelle auf den Kernel, der nach Ausführung wieder seine Verfügbarkeit anzeigen sollte (weißer leerer Kreis)!"
   ]
  },
  {
   "cell_type": "markdown",
   "id": "3cafbbb5",
   "metadata": {
    "nbgrader": {
     "grade": false,
     "grade_id": "cell-b22db3926e608f5b",
     "locked": true,
     "schema_version": 3,
     "solution": false,
     "task": false
    }
   },
   "source": [
    "<div align=\"center\">\n",
    "    <video width=\"560\" height=\"320\" \n",
    "       src=\"../../videos/CO2-Aufgabe1.2.mp4\"  \n",
    "       controls>\n",
    "    </video>\n",
    "</div>"
   ]
  },
  {
   "cell_type": "code",
   "execution_count": null,
   "id": "5a18b198",
   "metadata": {
    "nbgrader": {
     "grade": true,
     "grade_id": "cell-8e6ac9c97cfab31a",
     "locked": false,
     "points": 2,
     "schema_version": 3,
     "solution": true,
     "task": false
    }
   },
   "outputs": [],
   "source": [
    "# BEGIN SOLOTION\n",
    "data.head()\n",
    "# END SOLUTION"
   ]
  },
  {
   "cell_type": "markdown",
   "id": "c715ebab",
   "metadata": {
    "nbgrader": {
     "grade": false,
     "grade_id": "cell-3a450cd03c93fd3b",
     "locked": true,
     "schema_version": 3,
     "solution": false,
     "task": false
    }
   },
   "source": [
    "Verschaffen Sie sich nun einen Überblick über diesen Datensatz, um zu sehen, welche Spalten vorhanden sind und ob es fehlenden Daten gibt. Diese Informationen erhalten wir über die in der Pandas-Bibliothek bereits zur Verfügung gestellte Funktion 'info'. Die 'info'-Funktion muss als Quelle wieder unsere Daten im zugrundeliegenden Dataframe 'data' benutzen (data.info()). Wenn Sie, wie im Beispiel unten die Anzahl der Nicht-Null-Einträge ausgeben lassen wollen, müssen Sie dies innerhalb der info-Funktion mit dem Parameter 'show_counts = True' bestätigen.\n",
    "\n",
    "- https://pandas.pydata.org/docs/reference/api/pandas.DataFrame.info.html"
   ]
  },
  {
   "cell_type": "code",
   "execution_count": null,
   "id": "2151018e",
   "metadata": {
    "nbgrader": {
     "grade": false,
     "grade_id": "cell-b1cb7d15bb77018d",
     "locked": true,
     "schema_version": 3,
     "solution": false,
     "task": false
    }
   },
   "outputs": [],
   "source": [
    "data.info(show_counts = True)"
   ]
  },
  {
   "cell_type": "markdown",
   "id": "762dc764",
   "metadata": {
    "nbgrader": {
     "grade": false,
     "grade_id": "cell-f0de6e9e3870a928",
     "locked": true,
     "schema_version": 3,
     "solution": false,
     "task": false
    }
   },
   "source": [
    "#### Aufgabe 1.3 Daten vorbereiten"
   ]
  },
  {
   "cell_type": "markdown",
   "id": "486900e2",
   "metadata": {
    "nbgrader": {
     "grade": false,
     "grade_id": "cell-138b7b8167b0f8f3",
     "locked": true,
     "schema_version": 3,
     "solution": false,
     "task": false
    }
   },
   "source": [
    "Kalibrierung des Längengradbereichs von 0 bis 360 Grad auf -180 Grad bis 180 Grad.\n",
    "Diese Kalibrierung ist zur korrekten Darstellung der Weltkarte notwendig und soll hier nicht näher erläutert werden."
   ]
  },
  {
   "cell_type": "code",
   "execution_count": null,
   "id": "0cd33331",
   "metadata": {
    "nbgrader": {
     "grade": false,
     "grade_id": "cell-b7ff46e482167fae",
     "locked": true,
     "schema_version": 3,
     "solution": false,
     "task": false
    }
   },
   "outputs": [],
   "source": [
    "# convert the range of longitude from [0,360] to [-180,180]\n",
    "data.loc[data['longitude [dec.deg.E]']> 180,'longitude [dec.deg.E]'] = data.loc[data['longitude [dec.deg.E]']> 180,'longitude [dec.deg.E]'] -360"
   ]
  },
  {
   "cell_type": "markdown",
   "id": "f0f37740",
   "metadata": {
    "nbgrader": {
     "grade": false,
     "grade_id": "cell-66b215210b7a5c0f",
     "locked": true,
     "schema_version": 3,
     "solution": false,
     "task": false
    }
   },
   "source": [
    "## 2. Zeichnen Sie die Grundkarte"
   ]
  },
  {
   "cell_type": "markdown",
   "id": "f1f12d47",
   "metadata": {
    "nbgrader": {
     "grade": false,
     "grade_id": "cell-521fe7b101e16f1e",
     "locked": true,
     "schema_version": 3,
     "solution": false,
     "task": false
    }
   },
   "source": [
    "In diesem Abschnitt sollten Sie zunächst eine graphische Ausgabe (engl. 'figure') erstellen und dann die sogenannte Basemap-Bibliothek verwenden, um eine Weltkarte und weitere Datenpunkte auf der gleichen graphischen Ausgabe ('figure') zu zeichnen.\n",
    "\n",
    "Verwenden Sie hierzu bitte im ersten Schritt die **matplotlib.pyplot.figure** bzw. **plt.figure** Funktion. Definieren Sie zunächst die Größe (figsize=(x,y)) der graphischen Ausgabe ('figure') und geben Sie das Ergebnis auf die Variable mit dem Namen 'fig' zurück. Die erste Programmierzeile lautet also in etwa:\n",
    "fig=plt.figure(figsize=(???, ???))\n",
    "Ersetzen Sie dabei bitte die beiden ??? mit sinnvollen Werten.\n",
    "\n",
    "Um der graphischen Ausgabe ('figure') einen Titel hinzuzufügen, verwenden Sie bitte die Funktion 'title' und einen aussagekräftigen eigenen Titel (z.B. 'CO2-Konzentration') innerhalb der Bibliothek **matplotlib.pyplot** bzw. **plt**. Die zweite Programmierzeile wird also ungefähr wie folgt aussehen:\n",
    "plt.title('???')\n",
    "Ersetzen Sie dabei bitte die ??? durch Ihren aussagekräftigen Titel für die graphische Ausgabe.\n",
    "\n",
    "Hilfsseiten:\n",
    "- https://matplotlib.org/stable/api/_as_gen/matplotlib.pyplot.figure.html\n",
    "- https://www.scaler.com/topics/matplotlib/introduction-to-figures-in-matplotlib/"
   ]
  },
  {
   "cell_type": "markdown",
   "id": "59d2353a",
   "metadata": {
    "nbgrader": {
     "grade": false,
     "grade_id": "cell-3c4d991f81fcf95b",
     "locked": true,
     "schema_version": 3,
     "solution": false,
     "task": false
    }
   },
   "source": [
    "#### Aufgabe 2.1 Graphische Ausgabe erstellen"
   ]
  },
  {
   "cell_type": "code",
   "execution_count": null,
   "id": "cdf850d7",
   "metadata": {
    "nbgrader": {
     "grade": true,
     "grade_id": "cell-98a9261d05cfc8b9",
     "locked": false,
     "points": 2,
     "schema_version": 3,
     "solution": true,
     "task": false
    }
   },
   "outputs": [],
   "source": [
    "\"\"\"\n",
    "Eine graphische Ausgabe ('figure')  erstellen\n",
    "    \n",
    "Variable\n",
    "----------\n",
    "fig : Eine figure\n",
    "    \n",
    "Hinweise\n",
    "------------\n",
    "mit plt.figure() können Sie eine figure erstellen.\n",
    "Vergessen Sie nicht, einen Titel hinzuzufügen.\n",
    "\"\"\"\n",
    "\n",
    "# creat a figure\n",
    "fig=plt.figure()\n",
    "# BEGIN SOLUTION\n",
    "# set a title of the figure\n",
    "plt.title('sssä)\n",
    "# END SOLUTION"
   ]
  },
  {
   "cell_type": "markdown",
   "id": "222b723a",
   "metadata": {
    "nbgrader": {
     "grade": false,
     "grade_id": "cell-301d534b37a54b25",
     "locked": true,
     "schema_version": 3,
     "solution": false,
     "task": false
    }
   },
   "source": [
    "#### Aufgabe 2.2 Grundkarte"
   ]
  },
  {
   "cell_type": "markdown",
   "id": "b103dca8",
   "metadata": {
    "nbgrader": {
     "grade": false,
     "grade_id": "cell-d74735873f9e860e",
     "locked": true,
     "schema_version": 3,
     "solution": false,
     "task": false
    }
   },
   "source": [
    "Nachdem Sie die graphische Ausgabe als 'figure' entworfen haben, sollten Sie nun diese 'figure' erneut verwenden, um hierauf die Weltkarte einzuzeichnen. \n",
    "Bitte beachten Sie beim Zeichnen der Weltkarte auf die folgenden zwei Punkte:\n",
    "- Bitte geben Sie den Maßstab und die Einheiten für die x- und y-Achse an.\n",
    "- Bitte zeichnen Sie zusätzlich ein Gitternetz (Längen- und Breitengrade) auf die 'figure'.\n",
    "\n",
    "Wichtig;: Sämtliche 'Basemap'-Funktionen werden auf der Variablen 'm' operieren, also folgende Form haben: 'm.Funktion()' bzw. 'm.Funktion(Parameterliste)'. \n",
    "\n",
    "Die für diese Aufgabe notwendigen Teilschritte sind:\n",
    "1. Zeichnen Sie zunächst sämtliche Küstenlinien (basemap-Funktion 'drawcoastlines()')\n",
    "2. Graphisches Ausfüllen aller Kontinente (basemap-Funktion: 'fillcontinents()')\n",
    "3. Einzeichnen der Längen- und Breitengrade (basemap-Funktionen: 'drawparallels' sowie 'drawmeridians'). Dabei sieht die Programmierzeile für drawparallels() - und analog zu drawmeridians() - in etwa wie folgt aus: m.drawparallels([???,???,???,???],labels=[???,???,???,???]). Ersetzen Sie bitte die ??? mit sinnvollen Werten.\n",
    "\n",
    "Verwenden Sie für diese Programmierzelle die Python-Library (Bibliothek) **basemap**. In deren Dokumentationen finden Sie viele beispielhafte und für Ihre Aufgabe verwertbare Codezeilen:\n",
    "- https://matplotlib.org/basemap/stable/users/geography.html\n",
    "- https://matplotlib.org/basemap/stable/users/graticule.html\n",
    "- https://matplotlib.org/basemap/stable/api/basemap_api.html#mpl_toolkits.basemap.Basemap.drawparallels\n",
    "\n",
    "Die Programmierung besteht also insgesamt aus 4 Programmierzeilen. Achten Sie bei der Ausführung auch hier bitte darauf, dass die Ausführung etwas Zeit benötigt. Der Kernel sollte wieder 'idle' sein, bevor Sie mit der nächsten Programmierzelle weiterarbeiten."
   ]
  },
  {
   "cell_type": "markdown",
   "id": "7f4ee0c8",
   "metadata": {
    "nbgrader": {
     "grade": false,
     "grade_id": "cell-a0589876e7374cc3",
     "locked": true,
     "schema_version": 3,
     "solution": false,
     "task": false
    }
   },
   "source": [
    "<div align=\"center\">\n",
    "    <video width=\"560\" height=\"320\" \n",
    "       src=\"../../videos/CO2-Aufgabe2.2.mp4\"  \n",
    "       controls>\n",
    "    </video>\n",
    "</div>"
   ]
  },
  {
   "cell_type": "code",
   "execution_count": null,
   "id": "e797bd11",
   "metadata": {
    "nbgrader": {
     "grade": true,
     "grade_id": "cell-a50aa710256fba18",
     "locked": false,
     "points": 2,
     "schema_version": 3,
     "solution": true,
     "task": false
    }
   },
   "outputs": [],
   "source": [
    " \"\"\"\n",
    "Ein Grundkarte auf oben erstellte Figur zeichnen\n",
    "    \n",
    "Variable\n",
    "----------\n",
    "m : Ein Basemap\n",
    "    \n",
    "Hinweise\n",
    "------------\n",
    "Schauen Sie auf:\n",
    "https://matplotlib.org/basemap/stable/\n",
    "Zeichnen Sie geegnete Grundkarte auf obige Figur\n",
    "\"\"\"\n",
    "\n",
    "# draw the base map\n",
    "a = Basemap(projection='mill', llcrnrlat=-90,urcrnrlat=90,llcrnrlon=-180,urcrnrlon=180,resolution='c')\n",
    "a.drawcoastlines()\n",
    "# BEGIN SOLUTION\n",
    "a.fillcontinents()\n",
    "a.drawparallels([-90,-60,-30,0,30,60,90],labels=[1,0,0,0])\n",
    "a.drawmeridians([-180.,-120,-60,0,60,120,180],labels=[0,0,0,1])\n",
    "# END SOLUTION\n"
   ]
  },
  {
   "cell_type": "markdown",
   "id": "6a33e82c",
   "metadata": {
    "nbgrader": {
     "grade": false,
     "grade_id": "cell-12a187cc8695f946",
     "locked": true,
     "schema_version": 3,
     "solution": false,
     "task": false
    }
   },
   "source": [
    "#### Aufgabe 2.3 Datenpunkte auf der Weltkarte"
   ]
  },
  {
   "cell_type": "markdown",
   "id": "b9114766",
   "metadata": {
    "nbgrader": {
     "grade": false,
     "grade_id": "cell-cbb7862981534be9",
     "locked": true,
     "schema_version": 3,
     "solution": false,
     "task": false
    }
   },
   "source": [
    "Wir nähern uns der eigentlichen Aufgabenstellung für diesen Use Case an. \n",
    "Zeichnen Sie bitte die CO2-Konzentration an sämtlichen Messpunkten auf unserer Weltkarte ein, wobei die CO2-Konzentration farbig dargestellt werden sollte.\n",
    "\n",
    "Verwenden Sie hierzu bitte in der Programmierzelle weiter unten folgende **scatter()**-Funktion, um die Datenpunkte einzuzeichnen (Siehe auch https://matplotlib.org/basemap/stable/users/examples.html) und ersetzen Sie bitte die im Beispielcode dargestellten ??? weiter unten mit sinnvollen Werten. Orientieren Sie sich dabei an der Matplotlib-Referenzdokumentation sowie an dem existierenden Code in der Programmierzelle. Gerne dürfen Sie auch etwas experimentieren, um das gewünschte Ergebnis zu erzielen:\n",
    "\n",
    "    f = axes.scatter(x,y,\n",
    "                  s = ???, # Größe der Datenpunkte auf Weltkarte\n",
    "                  c = ???,  # Werte der CO2-Fugazität (fco2), welche wir zu unterschiedlichen Farben umwandlen möchten \n",
    "                  cmap = 'jet', # Das Farbspektrum, das wir verwenden möchten. (Blau bis Rot)\n",
    "                  norm = '???', # Mit linearer Transformation können wir fco2-Werte zu Farben transferieren.\n",
    "\n",
    "                  # Because the values concentrate in small range,\n",
    "                  # so, we use a smaller range to normalize the values\n",
    "                  # otherwise, we only see one color\n",
    "                  vmin=np.quantile(fco2_whole,0.1), # min value used in normalization\n",
    "                  vmax=np.quantile(fco2_whole,0.9)) # max value used in normalization\n",
    "\n",
    "Hilfsseiten:\n",
    "- https://matplotlib.org/basemap/stable/users/examples.html\n",
    "- https://basemaptutorial.readthedocs.io/en/latest/plotting_data.html#scatter\n",
    "\n",
    "**Achtung!!** Die Bearbeitung dieser Funktion kann bis zu 10 Minuten andauern, weil sehr viele Datenpunkte eingezeichnet werden müssen!"
   ]
  },
  {
   "cell_type": "code",
   "execution_count": null,
   "id": "8f81f318",
   "metadata": {
    "nbgrader": {
     "grade": true,
     "grade_id": "cell-bc40927e265a04ab",
     "locked": false,
     "points": 4,
     "schema_version": 3,
     "solution": true,
     "task": false
    }
   },
   "outputs": [],
   "source": [
    "\n",
    "\"\"\"\n",
    "Ein Grundkarte auf oben erstellte Figur zeichnen\n",
    "    \n",
    "Variablen:\n",
    "----------\n",
    "axes : Axis auf der Figur namens fig\n",
    "years: ein List -- Die Jahre von Messungen\n",
    "akt_data: Pandas Dataframe --  wo die Messdaten von ausgewählten Jahren gespeichert sind\n",
    "lat: Array -- Latitude von ausgewähltern Messdaten\n",
    "lon: Array -- Longtitude von ausgewähltern Messdaten\n",
    "fco2_whole: Array -- Werte der Konzentration von ausgewähltern Messdaten\n",
    "fco2: Array -- Werte der Konzentration von ganzen Messdaten aus 1957 - 2023\n",
    "x,y:  Array -- lat und lon in Koordinaten von basemap umwandeln\n",
    "f:    Das Plot von Datenpunkte\n",
    "m: obiges Basemap\n",
    "    \n",
    "Hinweise\n",
    "------------\n",
    "Schauen Sie auf:\n",
    "https://matplotlib.org/basemap/stable/\n",
    "Zeichnen Sie geegnete Grundkarte auf obige Figur\n",
    "\"\"\"\n",
    "\n",
    "axes = fig.axes[0]\n",
    "        \n",
    "# slice the dataframe, which contains only selected years\n",
    "years = np.arange(1960, 2024)\n",
    "akt_data = data.loc[data.yr.isin(years), :]\n",
    "\n",
    "# save the data point in a list like object.\n",
    "fco2_whole = data['fCO2rec [uatm]'].values\n",
    "lat  = akt_data['latitude [dec.deg.N]'].values\n",
    "lon  = akt_data['longitude [dec.deg.E]'].values\n",
    "fco2 = akt_data['fCO2rec [uatm]'].values\n",
    "\n",
    "\n",
    "# convert longitude and latitude to the coordinate, which basemap knows.                                                  \n",
    "x, y = m(lon,lat)\n",
    "    \n",
    "# BEGIN SOLUTION\n",
    "#draw the data points with different colors\n",
    "f = axes.scatter(x,y,\n",
    "                  s = 0.0001, # size of the point\n",
    "\n",
    "# END SOLUTION\n"
   ]
  },
  {
   "cell_type": "markdown",
   "id": "898492d3",
   "metadata": {
    "nbgrader": {
     "grade": false,
     "grade_id": "cell-16d490f4569c8c6f",
     "locked": true,
     "schema_version": 3,
     "solution": false,
     "task": false
    }
   },
   "source": [
    "#### Aufgabe 2.4 Color bar"
   ]
  },
  {
   "cell_type": "markdown",
   "id": "4fde4364",
   "metadata": {
    "nbgrader": {
     "grade": false,
     "grade_id": "cell-e22b5fee8cf2f7b5",
     "locked": true,
     "schema_version": 3,
     "solution": false,
     "task": false
    }
   },
   "source": [
    "Um den ungefähren Wert der CO2-Konzentration anzuzeigen, zeichnen Sie schließlich einen Farbbalken auf der rechten Seite der Abbildung. \n",
    "- Verwenden Sie dabei bitte Rot für hohe Konzentrationen und Blau für niedrige Konzentrationen, und\n",
    "- skalieren Sie bitte den Balken.\n",
    "\n",
    "Verwenden Sie für diese Teilaufgabe (Programmierzelle) bitte die **plt.colorbar()**-Funktion, um einen Farbbalken (colorbar) zu zeichnen! Die colorbar-Funktion operiert auf unserer graphischen Ausgabe, welches wir auf die Variable plt abelegt haben, also plt.colorbar(). plt.colorbar() wiederum beinhaltet als einzige Programmierzeile zwei Paramter 'f' und 'label': \n",
    "- f stellt die Datenpunkte dar, stammt aus der Programmierzelle weiter oben und wird unverändert als ersten Paramterwert für plt.colorbar() übernommen\n",
    "- label nimmt den Titel für die aufgezeichnete CO2-Fugazität auf. Dieser könnte bspw. 'fCO2rec [uatm]' lauten.\n",
    "\n",
    "Hilfssseite:\n",
    "- https://matplotlib.org/stable/api/_as_gen/matplotlib.pyplot.colorbar.html"
   ]
  },
  {
   "cell_type": "code",
   "execution_count": null,
   "id": "46440a5c",
   "metadata": {
    "nbgrader": {
     "grade": true,
     "grade_id": "cell-4f2c91361bd3d346",
     "locked": false,
     "points": 2,
     "schema_version": 3,
     "solution": true,
     "task": false
    }
   },
   "outputs": [],
   "source": [
    "\n",
    "\"\"\"\n",
    "Ein Colorbar auf oben erstellte Figur zeichnen\n",
    "    \n",
    "Parameter\n",
    "----------\n",
    "f:    Das Plot von Datenpunkte\n",
    "\"\"\"\n",
    "\n",
    "# BEGIN SOLUTION\n",
    "plt.colorbar( f, label = ['fCO2rec [uatm]'])\n",
    "# END SOLUTION"
   ]
  },
  {
   "cell_type": "markdown",
   "id": "08cb2ea4",
   "metadata": {
    "nbgrader": {
     "grade": false,
     "grade_id": "cell-588838fd09117a84",
     "locked": true,
     "schema_version": 3,
     "solution": false,
     "task": false
    }
   },
   "source": [
    "## 3. Interaktive Darstellung (Optional)"
   ]
  },
  {
   "cell_type": "markdown",
   "id": "bbe98f3f",
   "metadata": {
    "nbgrader": {
     "grade": false,
     "grade_id": "cell-7ecdb45d3e17fee8",
     "locked": true,
     "schema_version": 3,
     "solution": false,
     "task": false
    }
   },
   "source": [
    "Sie haben hiermit Ihren ersten Use case erfolgreich programmiertechnisch umgesetzt und somit erfolgreich beendet. Herzlichen Glückwunsch!\n",
    "\n",
    "Evtl. haben wir jedoch Ihren Appetit auf Weiteres angeregt? Denn der Weg zur Datenanalyse auf Basis der SOCAT-Daten ist mit Abschluss des ersten Use cases noch nicht zu Ende. Es gibt viele weitere Möglichkeiten, die vorliegenden Daten weiter zu explorieren und für Nutzer erlebbarer zu gestalten. Einiges davon wollen wir Ihnen vorstellen. Gerne dürfen Sie sich also bei Zeit und Interesse an Folgendem versuchen.\n",
    "\n",
    "In folgenden Abschnitt werden Sie sich also optional an einer Visualisierung einer einfachen Mensch-Computer-Interaktion (human machine interface HMI) versuchen und dürfen dabei Ihrer Fantasie freien Lauf lassen! \n",
    "\n",
    "Als Beispiel einer solchen HMI könnte man sich vorstellen, dass der Benutzer das Jahr beliebig einstellen kann. Die Ausgabe würde dann automatisch nur die Datenpunkte darstellen, die den gewünschten Jahren entsprechen.\n",
    "\n",
    "Keine Ahnung, wie man hier vorzugehen hat? Das ist nicht schlimm. Gerne verraten wir Ihnen zum Abschluss des vorliegenden Use cases die Lösung zu dieser Programmierzelle. Oder aber Sie schauen unter https://matplotlib.org/stable/gallery/widgets/slider_demo.html selbst nach, wie man sogenannte Slider-Elemente in eine graphische Ausgabe integrieren kann. Viel Erfolg!\n",
    "\n",
    "**Achtung!!** Die Ausführung dieser Funktion kann bis zu 10 Minuten andauern, weil sehr viele Datenpunkte gezeichnet werden müssen!"
   ]
  },
  {
   "cell_type": "code",
   "execution_count": null,
   "id": "47ab1ca8",
   "metadata": {
    "nbgrader": {
     "grade": true,
     "grade_id": "cell-eb08cb24bee7fead",
     "locked": false,
     "points": 0,
     "schema_version": 3,
     "solution": true,
     "task": false
    }
   },
   "outputs": [],
   "source": [
    "def plot_co2(event):\n",
    "    '''\n",
    "    plot the co2 concentration on basemap (colors represent different values)\n",
    "    '''\n",
    "    global f2\n",
    "\n",
    "    # BEGIN SOLUTION\n",
    "    # press c for clear the scatter on the basmap\n",
    "    if event.key == 'c':\n",
    "        f2.remove()\n",
    "    \n",
    "    # press enter for draw the next time region\n",
    "    if event.key == 'enter':\n",
    "        try:\n",
    "            f2.remove()\n",
    "        except:\n",
    "            None\n",
    "\n",
    "\n",
    "        axes = fig.axes[0]\n",
    "        \n",
    "        # slice the dataframe, which contains only selected years\n",
    "        years = np.arange(slider.val[0], slider.val[1] +1)\n",
    "        akt_data = data.loc[data.yr.isin(years), :]\n",
    "\n",
    "        # save the data point in a list like object.\n",
    "        fco2_whole = data['fCO2rec [uatm]'].values\n",
    "        lat  = akt_data['latitude [dec.deg.N]'].values\n",
    "        lon  = akt_data['longitude [dec.deg.E]'].values\n",
    "        fco2 = akt_data['fCO2rec [uatm]'].values\n",
    "\n",
    "\n",
    "        # convert longitude and latitude to the coordinate, which basemap knows.                                                  \n",
    "        x, y = m(lon,lat)\n",
    "\n",
    "        #draw the data points with different colors\n",
    "        f2 = axes.scatter(x,y,\n",
    "                      s = 0.0001, # size of the point\n",
    "                      c = fco2 ,  # the color of co2 concentration of each points\n",
    "                      cmap = 'jet', # the colors used in colorbar\n",
    "                      norm = 'linear', # use a liear normalization for the values of co2 concentration\n",
    "\n",
    "                      # Because the values concentrate in small range,\n",
    "                      # so, we use a smaller range to normalize the values\n",
    "                      # otherwise, we only see one color\n",
    "                      vmin=np.quantile(fco2_whole,0.1), # min value used in normalization\n",
    "                      vmax=np.quantile(fco2_whole,0.9)) # max value used in normalization\n",
    "\n",
    "        # draw the color bar.\n",
    "        try:\n",
    "            a = fig.axes[2]\n",
    "        except:\n",
    "            cb = plt.colorbar( f2, label = 'fCO2rec [uatm]')\n",
    "\n",
    "        plt.show()\n",
    "        # END SOLUTION\n",
    "    \n",
    "def plot_slide():\n",
    "    '''\n",
    "    plot a slider to select wanted time region to plot\n",
    "    '''\n",
    "    global slider\n",
    "    slider_ax = fig.add_axes([0.15, 0.02, 0.7, 0.03])\n",
    "    slider = RangeSlider(slider_ax, \"Years\", 1957, 2023,valinit = (2022,2023) ,valstep = 1)\n",
    "    fig.subplots_adjust(bottom=0.1)\n",
    "\n",
    "def plot_base_map():\n",
    "\n",
    "    \"\"\"\n",
    "    Ein Grundkarte auf oben erstellte Figur zeichnen\n",
    "    \n",
    "    Parameter\n",
    "    ----------\n",
    "    m : Ein Basemap\n",
    "    \n",
    "    Hinweise\n",
    "    ------------\n",
    "    Schauen Sie auf:\n",
    "    https://matplotlib.org/basemap/stable/\n",
    "    Zeichnen Sie geegnete Grundkarte auf obige Figur\n",
    "    \"\"\"\n",
    "\n",
    "    global m\n",
    "\n",
    "\n",
    "    # draw the base map\n",
    "    m=Basemap(projection='mill', llcrnrlat=-90,urcrnrlat=90,llcrnrlon=-180,urcrnrlon=180,resolution='c')\n",
    "\n",
    "    m.drawcoastlines()\n",
    "    m.fillcontinents()\n",
    "    m.drawparallels(np.arange(-90.,90.,30.),labels=[1,0,0,0])\n",
    "    m.drawmeridians(np.arange(-180.,180.,60.),labels=[0,0,0,1])"
   ]
  },
  {
   "cell_type": "code",
   "execution_count": null,
   "id": "437c9a76",
   "metadata": {
    "nbgrader": {
     "grade": true,
     "grade_id": "cell-255fb13cae11e332",
     "locked": false,
     "points": 0,
     "schema_version": 3,
     "solution": true,
     "task": false
    }
   },
   "outputs": [],
   "source": [
    "# creat a figure\n",
    "fig=plt.figure(figsize=(11, 8))\n",
    "# set a title of the figure\n",
    "plt.title('CO2 Concentration')\n",
    "# plot the whole world\n",
    "# BEGIN SOLUTION\n",
    "plot_base_map()\n",
    "# plot a slider, slide the slider to select a time region.\n",
    "plot_slide()\n",
    "# press enter to plot, and press c to clear the scatter points\n",
    "cid = fig.canvas.mpl_connect('key_press_event',plot_co2)\n",
    "# END SOLUTION"
   ]
  },
  {
   "cell_type": "markdown",
   "id": "c0bb6130",
   "metadata": {
    "nbgrader": {
     "grade": false,
     "grade_id": "cell-06d78a0a61fe3f92",
     "locked": true,
     "schema_version": 3,
     "solution": false,
     "task": false
    }
   },
   "source": [
    "Wir hoffen, dass wir Ihnen mit diesem ersten einführenden Use case einen kleinen Einblick \n",
    "in das Thema Datenanalyse (data analytics) geben konnten.\n",
    "Das Thema Datenanalyse (data analytics) ist natürlich sehr vielfältiger. Dabei geht es\n",
    "nicht nur um Datenvisualisierungen, sondern in erster Linie um das Erkennen verborgenen\n",
    "Wissens innerhalb riesiger Datenmengen. Gerne würden wir Ihnen also in den folgenden \n",
    "Use cases weitere reale Anwendungen auf anderen Datensätzen aus der Industrie und darüber \n",
    "hinaus zeigen. \n",
    "Sind Sie neugierig geworden? Dann freuen wir uns, Sie im folgenden Use case wiederzusehen."
   ]
  },
  {
   "cell_type": "markdown",
   "id": "a1e5a14e",
   "metadata": {
    "nbgrader": {
     "grade": false,
     "grade_id": "cell-ef111e0553d01bc0",
     "locked": true,
     "schema_version": 3,
     "solution": false,
     "task": false
    }
   },
   "source": [
    "Haben Sie weitere Fragen und Wünsche, so freuen wir uns über Ihr Feedback!"
   ]
  }
 ],
 "metadata": {},
 "nbformat": 4,
 "nbformat_minor": 5
}
